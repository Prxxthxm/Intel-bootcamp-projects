{
 "cells": [
  {
   "cell_type": "markdown",
   "metadata": {},
   "source": [
    "# Banana Ripeness Classifier\n"
   ]
  },
  {
   "cell_type": "code",
   "execution_count": 1,
   "metadata": {},
   "outputs": [],
   "source": [
    "#Import required Modules\n",
    "import cv2\n",
    "import numpy as np\n",
    "import os\n",
    "from sklearn.preprocessing import LabelEncoder  \n",
    "from sklearn import svm\n",
    "from sklearn.metrics import classification_report"
   ]
  },
  {
   "cell_type": "markdown",
   "metadata": {},
   "source": [
    "# Data Exploration"
   ]
  },
  {
   "cell_type": "code",
   "execution_count": 2,
   "metadata": {},
   "outputs": [
    {
     "name": "stdout",
     "output_type": "stream",
     "text": [
      "Loading training images for the label: Ripe\n",
      "Loading training images for the label: Unripe\n"
     ]
    }
   ],
   "source": [
    "#Define the metric of Training\n",
    "def averagecolor(image):\n",
    "    return np.mean(image, axis=(0, 1))\n",
    "\n",
    "#Load the dataset\n",
    "trainX = []\n",
    "trainY = []\n",
    "\n",
    "path = \"data/\"\n",
    "for label in (\"Ripe\", \"Unripe\"):\n",
    "    print (\"Loading training images for the label: \"+label)\n",
    "    \n",
    "    for filename in os.listdir(path+label+\"/\"): \n",
    "        img = cv2.imread(path+label+\"/\"+filename)\n",
    "        img_features = averagecolor(img)\n",
    "        trainX.append(img_features)\n",
    "        trainY.append(label)"
   ]
  },
  {
   "cell_type": "markdown",
   "metadata": {},
   "source": [
    "# Modelling"
   ]
  },
  {
   "cell_type": "code",
   "execution_count": 3,
   "metadata": {},
   "outputs": [
    {
     "data": {
      "text/plain": [
       "SVC()"
      ]
     },
     "execution_count": 3,
     "metadata": {},
     "output_type": "execute_result"
    }
   ],
   "source": [
    "#Label Encode the Data\n",
    "encoder = LabelEncoder()                        \n",
    "encodedtrainY = encoder.fit_transform(trainY) \n",
    "\n",
    "model = svm.SVC(gamma=\"scale\", decision_function_shape='ovr')\n",
    "model.fit(trainX, encodedtrainY)"
   ]
  },
  {
   "cell_type": "markdown",
   "metadata": {},
   "source": [
    "# Evaluation"
   ]
  },
  {
   "cell_type": "code",
   "execution_count": 4,
   "metadata": {},
   "outputs": [
    {
     "name": "stdout",
     "output_type": "stream",
     "text": [
      "a-unripe (1).jpg: Unripe\n",
      "a-unripe (10).jpg: Unripe\n",
      "a-unripe (11).jpg: Unripe\n",
      "a-unripe (12).jpg: Unripe\n",
      "a-unripe (13).jpg: Unripe\n",
      "a-unripe (14).jpg: Unripe\n",
      "a-unripe (15).jpg: Unripe\n",
      "a-unripe (2).jpg: Unripe\n",
      "a-unripe (3).jpg: Unripe\n",
      "a-unripe (4).jpg: Unripe\n",
      "a-unripe (5).jpg: Unripe\n",
      "a-unripe (6).jpg: Unripe\n",
      "a-unripe (7).jpg: Unripe\n",
      "a-unripe (8).jpg: Unripe\n",
      "a-unripe (9).jpg: Unripe\n",
      "ripe (1).jpg: Ripe\n",
      "ripe (10).jpg: Ripe\n",
      "ripe (11).jpg: Ripe\n",
      "ripe (12).jpg: Ripe\n",
      "ripe (13).jpg: Ripe\n",
      "ripe (14).jpg: Unripe\n",
      "ripe (15).jpg: Ripe\n",
      "ripe (2).jpg: Ripe\n",
      "ripe (3).jpg: Ripe\n",
      "ripe (4).jpg: Ripe\n",
      "ripe (5).jpg: Ripe\n",
      "ripe (6).jpg: Ripe\n",
      "ripe (7).jpg: Ripe\n",
      "ripe (8).jpg: Unripe\n",
      "ripe (9).jpg: Ripe\n",
      "\n",
      "              precision    recall  f1-score   support\n",
      "\n",
      "        Ripe       1.00      0.87      0.93        15\n",
      "      Unripe       0.88      1.00      0.94        15\n",
      "\n",
      "    accuracy                           0.93        30\n",
      "   macro avg       0.94      0.93      0.93        30\n",
      "weighted avg       0.94      0.93      0.93        30\n",
      "\n",
      "Wrong Predictions: (filename, labelled, predicted) \n",
      "[['ripe (14).jpg' 'Ripe' 'Unripe']\n",
      " ['ripe (8).jpg' 'Ripe' 'Unripe']]\n",
      "Correct :28. Wrong: 2. Correctly Classified: 93.33333333333333%\n"
     ]
    }
   ],
   "source": [
    "# Create the Evaluation Variables\n",
    "realtestY = np.array([\"Unripe\",\"Unripe\",\"Unripe\",\"Unripe\",\"Unripe\",\"Unripe\",\"Unripe\",\"Unripe\",\"Unripe\",\"Unripe\",\"Unripe\",\"Unripe\",\"Unripe\",\"Unripe\",\"Unripe\",\"Ripe\",\"Ripe\",\"Ripe\",\"Ripe\",\"Ripe\",\"Ripe\",\"Ripe\",\"Ripe\",\"Ripe\",\"Ripe\",\"Ripe\",\"Ripe\",\"Ripe\",\"Ripe\",\"Ripe\",])\n",
    "filenames = []\n",
    "predictedY = []\n",
    "path = \"data/Test/\"\n",
    "\n",
    "def evaluateaccuracy(filenames,predictedY):\n",
    "    predictedY = np.array(predictedY)\n",
    "    if (np.sum(realtestY!=predictedY)>0):\n",
    "        print (\"Wrong Predictions: (filename, labelled, predicted) \")\n",
    "        print (np.dstack([filenames,realtestY,predictedY]).squeeze()[(realtestY!=predictedY)])\n",
    "    return \"Correct :\"+ str(np.sum(realtestY==predictedY)) + \". Wrong: \"+str(np.sum(realtestY!=predictedY)) + \". Correctly Classified: \" + str(np.sum(realtestY==predictedY)*100/len(predictedY))+\"%\"\n",
    "\n",
    "for filename in os.listdir(path):\n",
    "    img = cv2.imread(path+filename)\n",
    "    img_features = averagecolor(img)\n",
    "    prediction = model.predict([img_features])[0]\n",
    "    \n",
    "    prediction = encoder.inverse_transform([prediction])[0]\n",
    "    \n",
    "    print (filename + \": \" + prediction)\n",
    "    filenames.append(filename)\n",
    "    predictedY.append(prediction)\n",
    "\n",
    "#Print the Evaluation Report\n",
    "print ()\n",
    "print(classification_report(realtestY, predictedY))\n",
    "print (evaluateaccuracy(filenames,predictedY))"
   ]
  },
  {
   "cell_type": "markdown",
   "metadata": {},
   "source": [
    "# Deployment"
   ]
  },
  {
   "cell_type": "code",
   "execution_count": 5,
   "metadata": {},
   "outputs": [
    {
     "name": "stdout",
     "output_type": "stream",
     "text": [
      "Do you want to use your Webcam Feed [Yes for Webcam and No for Image Upload]: No\n",
      "Save your file in the 'data' folder and enter the file name here: testpiece 2\n",
      "Enter the file extension here (ex: .jpg): .jpeg\n",
      "This banana is Unripe.\n"
     ]
    }
   ],
   "source": [
    "mode = input(\"Do you want to use your Webcam Feed [Yes for Webcam and No for Image Upload]: \")\n",
    "if mode == \"No\" or mode == \"no\" or mode == \"NO\":\n",
    "    filename = input(\"Save your file in the 'data' folder and enter the file name here: \")\n",
    "    filetype = input(\"Enter the file extension here (ex: .jpg): \")\n",
    "    #Load the Image to be predicted\n",
    "    check = cv2.imread(\"data/\"+filename+filetype)\n",
    "    check2 = averagecolor(check)\n",
    "\n",
    "    #Predict and display Output\n",
    "    prediction = model.predict([check2])[0]    \n",
    "    prediction = encoder.inverse_transform([prediction])[0]\n",
    "    print (\"This banana is \" + prediction + \".\")\n",
    "    \n",
    "elif mode == \"Yes\" or mode == \"yes\" or mode == \"YES\":\n",
    "    #Getting Webcam Feed\n",
    "    camera = cv2.VideoCapture(0) \n",
    "    while(True):\n",
    "        ret, frame = camera.read()               \n",
    "        resized = cv2.resize(frame,(800,600))\n",
    "            \n",
    "        #Predicting The Banana\n",
    "        check2 = averagecolor(resized)\n",
    "        prediction = model.predict([check2])[0]    \n",
    "        prediction = encoder.inverse_transform([prediction])[0]\n",
    "        \n",
    "        #Displaying the Prediction\n",
    "        cv2.putText(resized, prediction + \" Banana\", (650,550), cv2.FONT_HERSHEY_SIMPLEX, 0.5, (255, 255, 0), 2)\n",
    "        cv2.imshow('Press Spacebar to Exit',resized)  \n",
    "        \n",
    "        #Exit Mechanism\n",
    "        if cv2.waitKey(1) & 0xFF == ord(' '):\n",
    "            break         \n",
    "    camera.release()                            \n",
    "    cv2.destroyAllWindows()   \n",
    "    "
   ]
  }
 ],
 "metadata": {
  "kernelspec": {
   "display_name": "Python 3",
   "language": "python",
   "name": "python3"
  },
  "language_info": {
   "codemirror_mode": {
    "name": "ipython",
    "version": 3
   },
   "file_extension": ".py",
   "mimetype": "text/x-python",
   "name": "python",
   "nbconvert_exporter": "python",
   "pygments_lexer": "ipython3",
   "version": "3.8.5"
  }
 },
 "nbformat": 4,
 "nbformat_minor": 4
}

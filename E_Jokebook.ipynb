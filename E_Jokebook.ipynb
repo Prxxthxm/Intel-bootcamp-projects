{
  "cells": [
    {
      "cell_type": "code",
      "execution_count": null,
      "metadata": {
        "colab": {
          "base_uri": "https://localhost:8080/"
        },
        "id": "A_-kxf_lcVSM",
        "outputId": "57183ba4-0fec-4b2a-d42d-e03248139d9a"
      },
      "outputs": [
        {
          "name": "stdout",
          "output_type": "stream",
          "text": [
            "Requirement already satisfied: requests in /usr/local/lib/python3.7/dist-packages (2.23.0)\n",
            "Requirement already satisfied: urllib3!=1.25.0,!=1.25.1,<1.26,>=1.21.1 in /usr/local/lib/python3.7/dist-packages (from requests) (1.24.3)\n",
            "Requirement already satisfied: chardet<4,>=3.0.2 in /usr/local/lib/python3.7/dist-packages (from requests) (3.0.4)\n",
            "Requirement already satisfied: idna<3,>=2.5 in /usr/local/lib/python3.7/dist-packages (from requests) (2.10)\n",
            "Requirement already satisfied: certifi>=2017.4.17 in /usr/local/lib/python3.7/dist-packages (from requests) (2021.5.30)\n",
            "Collecting pyfiglet\n",
            "\u001b[?25l  Downloading https://files.pythonhosted.org/packages/33/07/fcfdd7a2872f5b348953de35acce1544dab0c1e8368dca54279b1cde5c15/pyfiglet-0.8.post1-py2.py3-none-any.whl (865kB)\n",
            "\u001b[K     |████████████████████████████████| 870kB 5.2MB/s \n",
            "\u001b[?25hInstalling collected packages: pyfiglet\n",
            "Successfully installed pyfiglet-0.8.post1\n"
          ]
        }
      ],
      "source": [
        "#Install\n",
        "!pip install requests\n",
        "!pip install pyfiglet\n",
        "\n",
        "#Import\n",
        "import requests\n",
        "import pyfiglet\n",
        "import termcolor\n",
        "from random import choice"
      ]
    },
    {
      "cell_type": "markdown",
      "metadata": {
        "id": "2VwPo70gc-oF"
      },
      "source": [
        "# Implementation\n"
      ]
    },
    {
      "cell_type": "code",
      "execution_count": null,
      "metadata": {
        "colab": {
          "base_uri": "https://localhost:8080/"
        },
        "id": "PhsUu_F6l2QS",
        "outputId": "cff825bf-db48-4cfb-cc6a-0b6a42c86c73"
      },
      "outputs": [
        {
          "name": "stdout",
          "output_type": "stream",
          "text": [
            "\u001b[34m ____            ____  _____  _  _  ____  ____  _____  _____  _  _ \n",
            "( ___)   ___    (_  _)(  _  )( )/ )( ___)(  _ \\(  _  )(  _  )( )/ )\n",
            " )__)   (___)  .-_)(   )(_)(  )  (  )__)  ) _ < )(_)(  )(_)(  )  ( \n",
            "(____)         \\____) (_____)(_)\\_)(____)(____/(_____)(_____)(_)\\_)\n",
            "\u001b[0m\n",
            "Let me tell you a joke! Give me a topic: bad daughter\n",
            "\n",
            " I've got 10 jokes remaining about bad daughter. Here's one:\n",
            " I had a rough day, and then somebody went and ripped the front and back pages from my dictionary. It just goes from bad to worse.\n",
            "Want one more? [y/n]y\n",
            "\n",
            " I've got 9 jokes remaining about bad daughter. Here's one:\n",
            " Why are ghosts bad liars? Because you can see right through them!\n",
            "Want one more? [y/n]y\n",
            "\n",
            " I've got 8 jokes remaining about bad daughter. Here's one:\n",
            " Mahatma Gandhi, as you know, walked barefoot most of the time, which produced an impressive set of calluses on his feet. \n",
            "He also ate very little, which made him rather frail and with his odd diet, he suffered from bad breath. \n",
            "This made him a super calloused fragile mystic hexed by halitosis.\n"
          ]
        }
      ],
      "source": [
        "# Make The Header\n",
        "header = pyfiglet.figlet_format(\"E - JOKEBOOK\", font = \"bulbhead\")\n",
        "header = termcolor.colored(header, color=\"blue\")\n",
        "print(header)\n",
        "\n",
        "# Make Request and Obtain Results\n",
        "term = input(\"Let me tell you a joke! Give me a topic: \")\n",
        "response_json = requests.get(\"https://icanhazdadjoke.com/search\",headers={\"Accept\": \"application/json\"},params={\"term\": term}).json()\n",
        "results = response_json[\"results\"]\n",
        "total_jokes = response_json[\"total_jokes\"]\n",
        "\n",
        "# Print Results\n",
        "if total_jokes > 1:\n",
        "    while total_jokes > 1:\n",
        "        thisjoke = choice(results)\n",
        "        print(f\"\\n I've got {total_jokes} jokes remaining about {term}. Here's one:\\n\",thisjoke['joke'])\n",
        "        results.remove(thisjoke)\n",
        "        total_jokes -= 1\n",
        "        go_on = input(\"Want one more? [y/n]\")\n",
        "        if go_on == 'n':\n",
        "          break;\n",
        "    else:\n",
        "        print(\"Ok, Here's the last one:\\n\",results[0]['joke'])\n",
        "elif total_jokes == 1:\n",
        "    print(\"\\n Ok, Here it is:\\n\",results[0]['joke'])\n",
        "else:\n",
        "    print(f\"\\n Sorry, I don't have any jokes about {term}!\")\n",
        "print(\"\\n Thank You for using E-Jokebook!\")"
      ]
    }
  ],
  "metadata": {
    "colab": {
      "collapsed_sections": [
        "SfQew5oeklYI"
      ],
      "provenance": []
    },
    "kernelspec": {
      "display_name": "Python 3",
      "name": "python3"
    },
    "language_info": {
      "name": "python"
    }
  },
  "nbformat": 4,
  "nbformat_minor": 0
}

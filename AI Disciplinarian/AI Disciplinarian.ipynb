{
 "cells": [
  {
   "cell_type": "markdown",
   "metadata": {},
   "source": [
    "# AI Disciplinarian\n",
    "This program detects whether the child is wearing proper uniform, improper uniform or uniform with certain elements missing. This is a prototype which can be trained on data of various schools' uniforms to apply for specific use cases."
   ]
  },
  {
   "cell_type": "markdown",
   "metadata": {},
   "source": [
    "# Data Acquisition\n",
    "The data was collected manually via google search engine for all the classes."
   ]
  },
  {
   "cell_type": "markdown",
   "metadata": {},
   "source": [
    "# Modelling"
   ]
  },
  {
   "cell_type": "code",
   "execution_count": 1,
   "metadata": {},
   "outputs": [],
   "source": [
    "#Import the required libraries\n",
    "import tensorflow.keras\n",
    "from PIL import Image, ImageOps\n",
    "import numpy as np\n",
    "from sklearn.metrics import classification_report\n",
    "import os\n",
    "import cv2"
   ]
  },
  {
   "cell_type": "code",
   "execution_count": 2,
   "metadata": {},
   "outputs": [
    {
     "name": "stdout",
     "output_type": "stream",
     "text": [
      "WARNING:tensorflow:No training configuration found in the save file, so the model was *not* compiled. Compile it manually.\n"
     ]
    }
   ],
   "source": [
    "#Import the CNN\n",
    "np.set_printoptions(suppress=True)\n",
    "model = tensorflow.keras.models.load_model('keras_model.h5')"
   ]
  },
  {
   "cell_type": "code",
   "execution_count": 3,
   "metadata": {},
   "outputs": [],
   "source": [
    "#Image Processing\n",
    "data = np.ndarray(shape=(1, 224, 224, 3), dtype=np.float32)\n",
    "labels = [\"Proper Uniform\",\"Tie Missing\",\"Improper Uniform\"]\n",
    "\n",
    "def imagePreparation(image):\n",
    "    #resize the image and then cropping from the center\n",
    "    size = (224, 224)\n",
    "    image = ImageOps.fit(image, size, Image.ANTIALIAS)\n",
    "    image_array = np.asarray(image)\n",
    "    normalized_image_array = (image_array.astype(np.float32) / 127.0) - 1\n",
    "    data[0] = normalized_image_array"
   ]
  },
  {
   "cell_type": "markdown",
   "metadata": {},
   "source": [
    "# Evaluation\n",
    "On evaluation, the model gives a 100% accuracy for the given test dataset."
   ]
  },
  {
   "cell_type": "code",
   "execution_count": 4,
   "metadata": {},
   "outputs": [
    {
     "name": "stdout",
     "output_type": "stream",
     "text": [
      "improper 1.jpeg: Improper Uniform\n",
      "improper 3.jpeg: Improper Uniform\n",
      "improper 4.jpeg: Improper Uniform\n",
      "improper 5.jpeg: Improper Uniform\n",
      "proper 1.jpeg: Proper Uniform\n",
      "proper 2.jpeg: Proper Uniform\n",
      "proper 3.jpeg: Proper Uniform\n",
      "tie missing 1.jpeg: Tie Missing\n",
      "tie missing 2.jpeg: Tie Missing\n",
      "tie missing 3.jpeg: Tie Missing\n",
      "\n",
      "                  precision    recall  f1-score   support\n",
      "\n",
      "Improper Uniform       1.00      1.00      1.00         4\n",
      "  Proper Uniform       1.00      1.00      1.00         3\n",
      "     Tie Missing       1.00      1.00      1.00         3\n",
      "\n",
      "        accuracy                           1.00        10\n",
      "       macro avg       1.00      1.00      1.00        10\n",
      "    weighted avg       1.00      1.00      1.00        10\n",
      "\n",
      "Correct :10. Wrong: 0. Correctly Classified: 100.0%\n"
     ]
    }
   ],
   "source": [
    "# Create the Evaluation Variables\n",
    "realtestY = np.array([\"Improper Uniform\",\"Improper Uniform\",\"Improper Uniform\",\"Improper Uniform\",\"Proper Uniform\",\"Proper Uniform\",\"Proper Uniform\",\"Tie Missing\",\"Tie Missing\",\"Tie Missing\"])\n",
    "filenames = []\n",
    "predictedY = []\n",
    "path = \"Data/Test/\"\n",
    "\n",
    "def evaluateaccuracy(filenames,predictedY):\n",
    "    predictedY = np.array(predictedY)\n",
    "    if (np.sum(realtestY!=predictedY)>0):\n",
    "        print (\"Wrong Predictions: (filename, labelled, predicted) \")\n",
    "        print (np.dstack([filenames,realtestY,predictedY]).squeeze()[(realtestY!=predictedY)])\n",
    "    return \"Correct :\"+ str(np.sum(realtestY==predictedY)) + \". Wrong: \"+str(np.sum(realtestY!=predictedY)) + \". Correctly Classified: \" + str(np.sum(realtestY==predictedY)*100/len(predictedY))+\"%\"\n",
    "\n",
    "for filename in os.listdir(path):\n",
    "    img = Image.open(path+filename)\n",
    "    imagePreparation(img)\n",
    "    prediction = model.predict(data)\n",
    "    result = np.argmax(prediction[0])\n",
    "    \n",
    "    print (filename + \": \" + labels[result])\n",
    "    filenames.append(filename)\n",
    "    predictedY.append(labels[result])\n",
    "\n",
    "#Print the Evaluation Report\n",
    "print ()\n",
    "print(classification_report(realtestY, predictedY))\n",
    "print (evaluateaccuracy(filenames,predictedY))"
   ]
  },
  {
   "cell_type": "markdown",
   "metadata": {},
   "source": [
    "# Deployment"
   ]
  },
  {
   "cell_type": "code",
   "execution_count": 5,
   "metadata": {},
   "outputs": [
    {
     "name": "stdout",
     "output_type": "stream",
     "text": [
      "Choose your preferred Mode of testing:\n",
      "1 - Image\n",
      "2 - Webcam\n",
      "Your Choice (1 or 2): 2\n",
      "\n",
      "Thanks for using School Uniform Checker!\n"
     ]
    }
   ],
   "source": [
    "#Mode Selection\n",
    "print(\"Choose your preferred Mode of testing:\"); print(\"1 - Image\"); print(\"2 - Webcam\")\n",
    "mode = int(input(\"Your Choice (1 or 2): \"))\n",
    "\n",
    "if mode == 1:\n",
    "    #Getting the prediction from an image\n",
    "    print(\"Save your image to be predicted in the same folder as this Jupyter Notebook.\")\n",
    "    filename = input(\"Enter the filename along with extension(.jpg,.png etc): \")\n",
    "\n",
    "    testpiece = Image.open(filename)\n",
    "    imagePreparation(testpiece)\n",
    "\n",
    "    prediction = model.predict(data)\n",
    "    result = np.argmax(prediction[0])\n",
    "    print(\"Uniform Status: \" + labels[result])\n",
    "\n",
    "elif mode == 2:\n",
    "    #Getting the prediction from a webcam feed\n",
    "    camera = cv2.VideoCapture(0)\n",
    "\n",
    "    while (True):\n",
    "        #Getting the current frame\n",
    "        ret, frame = camera.read()\n",
    "        img = Image.fromarray(frame)\n",
    "\n",
    "        #Get the Prediction\n",
    "        imagePreparation(img)\n",
    "        prediction = model.predict(data)\n",
    "        result = np.argmax(prediction[0])\n",
    "\n",
    "        #Show the Result\n",
    "        cv2.putText(frame,\"Uniform Status: \" + labels[result], (0,frame.shape[0] - 20), cv2.FONT_HERSHEY_SIMPLEX, 1, (255,255,255), 2)  \n",
    "        cv2.imshow(\"Webcam Feed (Press Spacebar to Exit)\", frame)\n",
    "\n",
    "        #Exit Mechanism\n",
    "        if cv2.waitKey(1) & 0xFF == ord(' '):\n",
    "                break \n",
    "    camera.release()\n",
    "    cv2.destroyAllWindows()\n",
    "    \n",
    "print(); print(\"Thanks for using School Uniform Checker!\")"
   ]
  },
  {
   "cell_type": "markdown",
   "metadata": {},
   "source": [
    "# Applications / Use Cases: \n",
    "This can be fitted in the entrance / door of the buses / vans that the school uses to provide public transport and also fit one at students' entrance gate. This can later be modelled in to a device consisting of an LED light / Buzzer, Raspberry Pie and NCS. It can buzz whenever it detects a student in improper uniform and can send a pic to teachers/authorities when a student comes in improper uniform, this can help teachers keep track of students who regularly make minor mistakes and can warn them if needed."
   ]
  }
 ],
 "metadata": {
  "kernelspec": {
   "display_name": "Python 3",
   "language": "python",
   "name": "python3"
  },
  "language_info": {
   "codemirror_mode": {
    "name": "ipython",
    "version": 3
   },
   "file_extension": ".py",
   "mimetype": "text/x-python",
   "name": "python",
   "nbconvert_exporter": "python",
   "pygments_lexer": "ipython3",
   "version": "3.8.5"
  }
 },
 "nbformat": 4,
 "nbformat_minor": 4
}

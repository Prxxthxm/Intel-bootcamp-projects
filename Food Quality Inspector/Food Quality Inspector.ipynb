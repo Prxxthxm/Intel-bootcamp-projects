{
 "cells": [
  {
   "cell_type": "markdown",
   "metadata": {
    "id": "GCh3Dqen4pij"
   },
   "source": [
    "# Food Quality Inspector\n",
    "\n",
    "This model detects whether the meat in question is safe for consumption or not. It analyzes the meat quality for set standards and classifies accordingly."
   ]
  },
  {
   "cell_type": "markdown",
   "metadata": {
    "id": "Rrp-1Lpo4yZn"
   },
   "source": [
    "# Modelling"
   ]
  },
  {
   "cell_type": "code",
   "execution_count": null,
   "metadata": {
    "id": "wIodFB2M44Z6"
   },
   "outputs": [],
   "source": [
    "#Import the required libraries\n",
    "import tensorflow.keras\n",
    "from PIL import Image, ImageOps\n",
    "import numpy as np\n",
    "import os\n",
    "import cv2"
   ]
  },
  {
   "cell_type": "code",
   "execution_count": 2,
   "metadata": {
    "colab": {
     "base_uri": "https://localhost:8080/"
    },
    "executionInfo": {
     "elapsed": 3182,
     "status": "ok",
     "timestamp": 1659786007509,
     "user": {
      "displayName": "Preetham Sivalingam",
      "userId": "03560705754736682588"
     },
     "user_tz": -330
    },
    "id": "OW80HnYc4-SU",
    "outputId": "d1a6ad04-9567-443e-9336-8f547ad59759"
   },
   "outputs": [
    {
     "name": "stdout",
     "output_type": "stream",
     "text": [
      "WARNING:tensorflow:No training configuration found in the save file, so the model was *not* compiled. Compile it manually.\n"
     ]
    }
   ],
   "source": [
    "#Import the CNN\n",
    "np.set_printoptions(suppress=True)\n",
    "model = tensorflow.keras.models.load_model('Meat Classifier.h5')"
   ]
  },
  {
   "cell_type": "code",
   "execution_count": 3,
   "metadata": {
    "id": "C001v_Be5KtQ"
   },
   "outputs": [],
   "source": [
    "#Image Processing\n",
    "data = np.ndarray(shape=(1, 224, 224, 3), dtype=np.float32)\n",
    "labels = [\"Fresh Meat\",\"Spoiled Meat\"]\n",
    "\n",
    "def imagePreparation(image):\n",
    "    #resize the image and then cropping from the center\n",
    "    size = (224, 224)\n",
    "    image = ImageOps.fit(image, size, Image.ANTIALIAS)\n",
    "    image_array = np.asarray(image)\n",
    "    normalized_image_array = (image_array.astype(np.float32) / 127.0) - 1\n",
    "    data[0] = normalized_image_array"
   ]
  },
  {
   "cell_type": "markdown",
   "metadata": {
    "id": "NCkHQnUi5Rkm"
   },
   "source": [
    "# Deployment\n"
   ]
  },
  {
   "cell_type": "code",
   "execution_count": 4,
   "metadata": {
    "id": "vH8nK4W_5a1G"
   },
   "outputs": [
    {
     "name": "stdout",
     "output_type": "stream",
     "text": [
      "Enter the filename along with extension(.jpg,.png etc): Fresh_meat.jpg\n",
      "The meat presented here is Fresh Meat! This is safe for consumption, enjoy your meat!\n",
      "Thanks for using FQI!\n"
     ]
    }
   ],
   "source": [
    "#Getting the prediction from an image\n",
    "filename = input(\"Enter the filename along with extension(.jpg,.png etc): \")\n",
    "reading = [\"This is safe for consumption, enjoy your meat!\",\"This meat is unsafe for human consumption, kindly dispose appropriately!\"]\n",
    "testpiece = Image.open(filename)\n",
    "imagePreparation(testpiece)\n",
    "\n",
    "prediction = model.predict(data)\n",
    "result = np.argmax(prediction[0])\n",
    "print(f\"The meat presented here is {labels[result]}! {reading[result]}\\nThanks for using FQI!\")"
   ]
  },
  {
   "cell_type": "markdown",
   "metadata": {
    "id": "3nkAHkrv502A"
   },
   "source": [
    "# Applications / Use Cases: \n",
    "Food Quality Inspector can assist butchers in selecting the right meat to present to consumers. It also helps consumers select the right meat for their needs. \n",
    "This helps improve the quality of meat consumed thereby improving food quality, both hygienically and taste wise!"
   ]
  }
 ],
 "metadata": {
  "colab": {
   "authorship_tag": "ABX9TyNAHIZLrcJyWe0ceKtRm5DG",
   "collapsed_sections": [],
   "mount_file_id": "10XUJP--dNUQUpaQ15f4mOHst20x1gRn5",
   "name": "Meat Doctor.ipynb",
   "provenance": []
  },
  "kernelspec": {
   "display_name": "Python 3",
   "language": "python",
   "name": "python3"
  },
  "language_info": {
   "codemirror_mode": {
    "name": "ipython",
    "version": 3
   },
   "file_extension": ".py",
   "mimetype": "text/x-python",
   "name": "python",
   "nbconvert_exporter": "python",
   "pygments_lexer": "ipython3",
   "version": "3.11.9"
  }
 },
 "nbformat": 4,
 "nbformat_minor": 1
}
